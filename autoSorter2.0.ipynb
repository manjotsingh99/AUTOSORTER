{
 "cells": [
  {
   "cell_type": "code",
   "execution_count": 12,
   "metadata": {},
   "outputs": [],
   "source": [
    "import os\n",
    "import re\n",
    "import time as t\n",
    "import shutil"
   ]
  },
  {
   "cell_type": "code",
   "execution_count": 13,
   "metadata": {},
   "outputs": [],
   "source": [
    "src=r\"C:/Users/Manni/Desktop/autosorter/data/\"\n",
    "dst=r\"C:/Users/Manni/Desktop/autosorter/files/\"\n",
    "files=os.listdir(src)"
   ]
  },
  {
   "cell_type": "code",
   "execution_count": 14,
   "metadata": {},
   "outputs": [
    {
     "name": "stdout",
     "output_type": "stream",
     "text": [
      "Processing.....Please wait\n",
      "Files that were detected :  ['derivatives.pdf', 'hello.txt', 'hi.txt', 'image.bmp', 'IMG_9684.JPG', 'IMG_9687.JPG', 'ppt.pptx', 'Untitled.png']\n"
     ]
    }
   ],
   "source": [
    "print(\"Processing.....Please wait\")\n",
    "t.sleep(5)\n",
    "print(\"Files that were detected : \" , files)"
   ]
  },
  {
   "cell_type": "code",
   "execution_count": 15,
   "metadata": {},
   "outputs": [
    {
     "name": "stdout",
     "output_type": "stream",
     "text": [
      "found a pdf file please wait while the system sorts these files.\n",
      "moved pdf image\n",
      "found a txt file please wait while the system sorts these files.\n",
      "moved txt file\n",
      "found a txt file please wait while the system sorts these files.\n",
      "moved txt file\n",
      "found an Unrecognised file please wait while the system sorts these files.\n",
      "moved unknown files to seperate folder\n",
      "found a jpg file please wait while the system sorts these files.\n",
      "moved JPG file\n",
      "found a jpg file please wait while the system sorts these files.\n",
      "moved JPG file\n",
      "found an Unrecognised file please wait while the system sorts these files.\n",
      "moved unknown files to seperate folder\n",
      "found a png file please wait while the system sorts these files.\n",
      "moved png image\n",
      "We are happy to inform you that we have transfered all the files into the correct folder.\n"
     ]
    }
   ],
   "source": [
    "q=0\n",
    "for i in files:\n",
    "    if re.search(\"\\w*?.txt\",i):\n",
    "        print(\"found a txt file please wait while the system sorts these files.\")\n",
    "        #t.sleep(5)\n",
    "        x=os.path.join(dst+\"txt\")\n",
    "        try : \n",
    "            os.mkdir(x)\n",
    "        except :\n",
    "            if os.listdir(src)==True:\n",
    "                y=os.path.join(dst+\"TXT\")\n",
    "                shutil.move(k,y)\n",
    "        k=os.path.join(src+i)\n",
    "        shutil.move(k, x)\n",
    "        q=1\n",
    "        print(\"moved txt file\")\n",
    "        \n",
    "        \n",
    "    elif re.search(\"\\w*?.JPG\",i):\n",
    "        print(\"found a jpg file please wait while the system sorts these files.\")\n",
    "        t.sleep(5)\n",
    "        x=os.path.join(dst+\"JPG\")\n",
    "        try : \n",
    "            os.mkdir(x)\n",
    "        except :\n",
    "            if os.listdir(src)==True:\n",
    "                y=os.path.join(dst+\"jpg\")\n",
    "                shutil.move(k,y)\n",
    "        k=os.path.join(src+i)\n",
    "        shutil.move(k, x)\n",
    "        q=1\n",
    "        print(\"moved JPG file\")\n",
    "        \n",
    "        \n",
    "    elif re.search(\"\\w*?.png\",i): #do it with three blank spaces and then run\n",
    "        print(\"found a png file please wait while the system sorts these files.\")\n",
    "        t.sleep(5)\n",
    "        x=os.path.join(dst+\"png\")\n",
    "        try : \n",
    "            os.mkdir(x)\n",
    "        except :\n",
    "            if os.listdir(src)==True:\n",
    "                y=os.path.join(dst+\"PNG\")\n",
    "                shutil.move(k,y)\n",
    "        k=os.path.join(src+i)\n",
    "        shutil.move(k, x)\n",
    "        q=1\n",
    "        print(\"moved png image\")\n",
    "    \n",
    "    elif re.search(\"\\w*?.pdf\",i): #do it with three blank spaces and then run\n",
    "        print(\"found a pdf file please wait while the system sorts these files.\")\n",
    "        t.sleep(5)\n",
    "        x=os.path.join(dst+\"PDF\")\n",
    "        try : \n",
    "            os.mkdir(x)\n",
    "        except :\n",
    "            if os.listdir(src)==True:\n",
    "                y=os.path.join(dst+\"pdf\")\n",
    "                shutil.move(k,y)\n",
    "        k=os.path.join(src+i)\n",
    "        shutil.move(k, x)\n",
    "        q=1\n",
    "        print(\"moved pdf image\")\n",
    "        \n",
    "        \n",
    "    else :\n",
    "        print(\"found an Unrecognised file please wait while the system sorts these files.\")\n",
    "        #t.sleep(5)\n",
    "        x=os.path.join(dst+\"unknown\")\n",
    "        try : \n",
    "            os.mkdir(x)\n",
    "        except :\n",
    "            if os.listdir(src)==True:\n",
    "                y=os.path.join(dst+\"UNKNOWN\")\n",
    "                shutil.move(k,y)\n",
    "        k=os.path.join(src+i)\n",
    "        shutil.move(k, x)\n",
    "        q=1\n",
    "        print(\"moved unknown files to seperate folder\")\n",
    "\n",
    "        \n",
    "if q==1:\n",
    "    print(\"We are happy to inform you that we have transfered all the files into the correct folder.\")\n",
    "else :\n",
    "    print(\"Please Add files into the folder\")"
   ]
  },
  {
   "cell_type": "code",
   "execution_count": null,
   "metadata": {},
   "outputs": [],
   "source": [
    "files!=None"
   ]
  },
  {
   "cell_type": "code",
   "execution_count": null,
   "metadata": {},
   "outputs": [],
   "source": [
    "print(files)"
   ]
  }
 ],
 "metadata": {
  "kernelspec": {
   "display_name": "Python 3",
   "language": "python",
   "name": "python3"
  },
  "language_info": {
   "codemirror_mode": {
    "name": "ipython",
    "version": 3
   },
   "file_extension": ".py",
   "mimetype": "text/x-python",
   "name": "python",
   "nbconvert_exporter": "python",
   "pygments_lexer": "ipython3",
   "version": "3.7.3"
  }
 },
 "nbformat": 4,
 "nbformat_minor": 2
}
